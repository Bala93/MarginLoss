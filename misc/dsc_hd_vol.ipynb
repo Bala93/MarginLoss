{
 "cells": [
  {
   "cell_type": "code",
   "execution_count": 37,
   "id": "a1af074a-350c-4325-804c-b5044df66ffe",
   "metadata": {},
   "outputs": [],
   "source": [
    "import os\n",
    "import h5py\n",
    "from matplotlib import pyplot as plt\n",
    "from medpy.metric import binary\n",
    "from calibrate.evaluation import metrics\n",
    "import pandas as pd\n",
    "import numpy as np\n",
    "from skimage.transform import resize\n",
    "import glob"
   ]
  },
  {
   "cell_type": "code",
   "execution_count": 38,
   "id": "5ba2ca1e-628a-4dc4-97b7-b7ccf595fb1d",
   "metadata": {},
   "outputs": [],
   "source": [
    "def metric_multi_class(gt, pred):\n",
    "    \n",
    "    try:\n",
    "        cnums = np.unique(gt)\n",
    "\n",
    "        dsc_cls = []\n",
    "        hd_cls = []\n",
    "\n",
    "        for cno in cnums:\n",
    "\n",
    "            dsc_cls.append(round(binary.dc(pred == cno, gt == cno),4))\n",
    "            hd_cls.append(round(binary.hd(pred == cno , gt == cno),4))\n",
    "        dsc_m, hd_m = np.round(np.mean(dsc_cls),4), np.round(np.mean(hd_cls),4)\n",
    "        \n",
    "    except Exception as e:\n",
    "        dsc_m, hd_m = 1, 0\n",
    "        \n",
    "    return dsc_m, hd_m\n",
    "    "
   ]
  },
  {
   "cell_type": "code",
   "execution_count": 55,
   "id": "95deb11b-7139-420c-a7eb-91f57c5066ea",
   "metadata": {},
   "outputs": [],
   "source": [
    "def metric_dsc(gt, pred):\n",
    "    \n",
    "    try:\n",
    "        cnums = np.unique(gt)\n",
    "\n",
    "        dsc_cls = []\n",
    "\n",
    "        for cno in cnums:\n",
    "\n",
    "            dsc_cls.append(round(binary.dc(pred == cno, gt == cno),4))\n",
    "        dsc_m = np.round(np.mean(dsc_cls),4)\n",
    "        \n",
    "    except Exception as e:\n",
    "        print (e)\n",
    "        dsc_m = 1\n",
    "        \n",
    "    return dsc_m\n",
    "    "
   ]
  },
  {
   "cell_type": "code",
   "execution_count": 39,
   "id": "d8d43278-d008-481a-996f-82439dde84b5",
   "metadata": {},
   "outputs": [],
   "source": [
    "model_names = ['CE','CD','FL','CP','LS','VS','ML']"
   ]
  },
  {
   "cell_type": "markdown",
   "id": "0fd44842-c07f-4419-b33a-506a22a4b50a",
   "metadata": {},
   "source": [
    "## mrbrains"
   ]
  },
  {
   "cell_type": "code",
   "execution_count": 23,
   "id": "57735919-82d9-49f5-82ab-d014a2b34ee1",
   "metadata": {},
   "outputs": [],
   "source": [
    "model_dirs = ['/home/ar88770/MarginLoss/outputs/brainatlas/unet-ce-adam/20220404-16:20:24-829672',\n",
    "              '/home/ar88770/MarginLoss/outputs/brainatlas/unet-ce_dice-adam/20220427-17:25:09-405389',\n",
    "              '/home/ar88770/MarginLoss/outputs/brainatlas/unet-focal-adam/20220406-10:59:04-103885',\n",
    "              '/home/ar88770/MarginLoss/outputs/brainatlas/unet-penalty_ent-adam/20220406-11:26:33-769991',\n",
    "              '/home/ar88770/MarginLoss/outputs/brainatlas/unet-ls-adam/20220404-16:49:47-579491',\n",
    "              '/home/ar88770/MarginLoss/outputs/brainatlas/unet-svls-adam/20220417-17:23:24-173305',\n",
    "              '/home/ar88770/MarginLoss/outputs/brainatlas/unet-logit_margin-adam/20220404-22:15:12-835794']\n",
    "gt_dir = '/home/ar88770/MarginLoss/mrbrains/valid/'\n",
    "gt_files = glob.glob(gt_dir + '*.h5')"
   ]
  },
  {
   "cell_type": "code",
   "execution_count": 30,
   "id": "25669213-784f-4c4f-b31f-cd49c6d99a32",
   "metadata": {},
   "outputs": [],
   "source": [
    "metric_dict_dsc = {'fname':[],'CE':[],'CD':[],'FL':[],'CP':[],'LS':[],'VS':[],'ML':[]}\n",
    "metric_dict_hd = {'fname':[],'CE':[],'CD':[],'FL':[],'CP':[],'LS':[],'VS':[],'ML':[]}\n",
    "\n",
    "for gt_path in gt_files:\n",
    "    \n",
    "    fname = os.path.basename(gt_path)\n",
    "    metric_dict_dsc['fname'].append(fname)\n",
    "    metric_dict_hd['fname'].append(fname)\n",
    "    \n",
    "    with h5py.File(gt_path, 'r') as hf:\n",
    "        gt = hf['mask'][:]\n",
    "    \n",
    "    for ii, model_dir in enumerate(model_dirs):\n",
    "        \n",
    "        res_path = os.path.join(model_dir, 'results', fname)\n",
    "        \n",
    "        with h5py.File(res_path, 'r') as hf:\n",
    "            pred = hf['mask'][:][8:-8,8:-8]\n",
    "            \n",
    "        dsc, hd = metric_multi_class(pred, gt)\n",
    "        metric_dict_dsc[model_names[ii]].append(dsc)\n",
    "        metric_dict_hd[model_names[ii]].append(hd)\n",
    "\n",
    "df_dsc = pd.DataFrame(metric_dict_dsc)\n",
    "df_hd = pd.DataFrame(metric_dict_hd)"
   ]
  },
  {
   "cell_type": "code",
   "execution_count": 32,
   "id": "4f9ebc07-5991-4c01-afea-bf036973af53",
   "metadata": {},
   "outputs": [
    {
     "name": "stderr",
     "output_type": "stream",
     "text": [
      "/tmp/ipykernel_26352/3876129717.py:1: FutureWarning: Dropping of nuisance columns in DataFrame reductions (with 'numeric_only=None') is deprecated; in a future version this will raise TypeError.  Select only valid columns before calling the reduction.\n",
      "  df_dsc.mean(), df_hd.mean()\n"
     ]
    },
    {
     "data": {
      "text/plain": [
       "(CE    0.83660\n",
       " CD    0.81930\n",
       " FL    0.81275\n",
       " CP    0.83720\n",
       " LS    0.80635\n",
       " VS    0.80420\n",
       " ML    0.85580\n",
       " dtype: float64,\n",
       " CE    13.08075\n",
       " CD    13.32975\n",
       " FL    13.98160\n",
       " CP    14.84150\n",
       " LS    17.81365\n",
       " VS    13.20420\n",
       " ML    13.99945\n",
       " dtype: float64)"
      ]
     },
     "execution_count": 32,
     "metadata": {},
     "output_type": "execute_result"
    }
   ],
   "source": [
    "df_dsc.mean(), df_hd.mean()"
   ]
  },
  {
   "cell_type": "markdown",
   "id": "8b0a1c19-9ccf-4c11-b941-b76b5378d967",
   "metadata": {},
   "source": [
    "## abdomen"
   ]
  },
  {
   "cell_type": "code",
   "execution_count": 34,
   "id": "8b6edfd6-3629-4ea0-a8a4-131f7bdab8c1",
   "metadata": {},
   "outputs": [],
   "source": [
    "model_dirs = ['/home/ar88770/MarginLoss/outputs/abdomen/unet-ce-adam/20220501-23:43:11-336368',\n",
    "              '/home/ar88770/MarginLoss/outputs/abdomen/unet-ce_dice-adam/20220502-18:52:50-928615',\n",
    "              '/home/ar88770/MarginLoss/outputs/abdomen/unet-focal-adam/20220502-09:49:29-657707',\n",
    "              '/home/ar88770/MarginLoss/outputs/abdomen/unet-penalty_ent-adam/20220502-12:21:41-348902',\n",
    "              '/home/ar88770/MarginLoss/outputs/abdomen/unet-ls-adam/20220502-04:02:05-859276',\n",
    "              '/home/ar88770/MarginLoss/outputs/abdomen/unet-svls-adam/20220502-15:09:37-710891',\n",
    "              '/home/ar88770/MarginLoss/outputs/abdomen/unet-logit_margin-adam/20220502-07:01:38-850966']\n",
    "gt_dir = '/home/ar88770/MarginLoss/flare/valid/'\n",
    "gt_files = glob.glob(gt_dir + '*.h5')"
   ]
  },
  {
   "cell_type": "code",
   "execution_count": 46,
   "id": "8bfa8ab6-6923-4787-b43b-b6c10732df43",
   "metadata": {},
   "outputs": [],
   "source": [
    "metric_dict_dsc = {'fname':[],'CE':[],'CD':[],'FL':[],'CP':[],'LS':[],'VS':[],'ML':[]}\n",
    "# metric_dict_hd = {'fname':[],'CE':[],'CD':[],'FL':[],'CP':[],'LS':[],'VS':[],'ML':[]}\n",
    "\n",
    "for gt_path in gt_files:\n",
    "    \n",
    "    fname = os.path.basename(gt_path)\n",
    "    metric_dict_dsc['fname'].append(fname)\n",
    "    metric_dict_hd['fname'].append(fname)\n",
    "    \n",
    "    with h5py.File(gt_path, 'r') as hf:\n",
    "        gt = hf['mask'][:]\n",
    "    \n",
    "    for ii, model_dir in enumerate(model_dirs):\n",
    "        \n",
    "        res_path = os.path.join(model_dir, 'results', fname)\n",
    "        \n",
    "        with h5py.File(res_path, 'r') as hf:\n",
    "            pred = hf['mask'][:]\n",
    "            \n",
    "        dsc = metric_dsc(pred, gt)\n",
    "        metric_dict_dsc[model_names[ii]].append(dsc)\n",
    "        # metric_dict_hd[model_names[ii]].append(hd)\n",
    "\n",
    "df_dsc = pd.DataFrame(metric_dict_dsc)\n",
    "# df_hd = pd.DataFrame(metric_dict_hd)"
   ]
  },
  {
   "cell_type": "markdown",
   "id": "e38b482f-fae8-4efa-b976-8c2be2f9d01c",
   "metadata": {},
   "source": [
    "## promise"
   ]
  },
  {
   "cell_type": "code",
   "execution_count": 50,
   "id": "860aae28-a8b6-41f2-8bfe-b6f5148d0eca",
   "metadata": {},
   "outputs": [],
   "source": [
    "model_dirs = ['/home/ar88770/MarginLoss/outputs/prostate_mc/unet-ce-adam/20220409-22:47:25-847975',\n",
    "              '/home/ar88770/MarginLoss/outputs/prostate_mc/unet-ce_dice-adam/20220427-13:38:39-924288',\n",
    "              '/home/ar88770/MarginLoss/outputs/prostate_mc/unet-focal-adam/20220406-17:06:46-112063',\n",
    "              '/home/ar88770/MarginLoss/outputs/prostate_mc/unet-penalty_ent-adam/20220411-23:10:20-338365',\n",
    "              '/home/ar88770/MarginLoss/outputs/prostate_mc/unet-ls-adam/20220409-22:57:05-534513',\n",
    "              '/home/ar88770/MarginLoss/outputs/prostate_mc/unet-svls-adam/20220417-14:10:04-419455',\n",
    "              '/home/ar88770/MarginLoss/outputs/prostate_mc/unet-logit_margin-adam/20220409-23:07:04-480575']\n",
    "gt_dir = '/home/ar88770/MarginLoss/promise_mc/valid/'\n",
    "gt_files = glob.glob(gt_dir + '*.h5')"
   ]
  },
  {
   "cell_type": "code",
   "execution_count": 58,
   "id": "1d78f209-f1c3-4d68-85f4-20849ce94bab",
   "metadata": {},
   "outputs": [],
   "source": [
    "metric_dict_dsc = {'fname':[],'CE':[],'CD':[],'FL':[],'CP':[],'LS':[],'VS':[],'ML':[]}\n",
    "# metric_dict_hd = {'fname':[],'CE':[],'CD':[],'FL':[],'CP':[],'LS':[],'VS':[],'ML':[]}\n",
    "\n",
    "for gt_path in gt_files:\n",
    "    \n",
    "    fname = os.path.basename(gt_path)\n",
    "    metric_dict_dsc['fname'].append(fname)\n",
    "    metric_dict_hd['fname'].append(fname)\n",
    "    \n",
    "    with h5py.File(gt_path, 'r') as hf:\n",
    "        gt = hf['mask'][:][:,80:240,80:240]\n",
    "    \n",
    "    for ii, model_dir in enumerate(model_dirs):\n",
    "        \n",
    "        res_path = os.path.join(model_dir, 'results', fname)\n",
    "        \n",
    "        with h5py.File(res_path, 'r') as hf:\n",
    "            pred = hf['mask'][:]\n",
    "            \n",
    "        dsc = metric_dsc(pred, gt)\n",
    "        metric_dict_dsc[model_names[ii]].append(dsc)\n",
    "        # metric_dict_hd[model_names[ii]].append(hd)\n",
    "\n",
    "df_dsc = pd.DataFrame(metric_dict_dsc)\n",
    "# df_hd = pd.DataFrame(metric_dict_hd)"
   ]
  },
  {
   "cell_type": "code",
   "execution_count": 61,
   "id": "3a114e50-b429-4722-b136-e9251c6aa1b2",
   "metadata": {},
   "outputs": [
    {
     "name": "stderr",
     "output_type": "stream",
     "text": [
      "/tmp/ipykernel_26352/3044381647.py:1: FutureWarning: Dropping of nuisance columns in DataFrame reductions (with 'numeric_only=None') is deprecated; in a future version this will raise TypeError.  Select only valid columns before calling the reduction.\n",
      "  df_dsc.mean()\n"
     ]
    },
    {
     "data": {
      "text/plain": [
       "CE    0.656143\n",
       "CD    0.667729\n",
       "FL    0.473543\n",
       "CP    0.669529\n",
       "LS    0.678429\n",
       "VS    0.680643\n",
       "ML    0.698157\n",
       "dtype: float64"
      ]
     },
     "execution_count": 61,
     "metadata": {},
     "output_type": "execute_result"
    }
   ],
   "source": [
    "df_dsc.mean()"
   ]
  },
  {
   "cell_type": "markdown",
   "id": "ae498f3d-c059-419b-adef-b5699a58ba4b",
   "metadata": {},
   "source": [
    "## brats"
   ]
  },
  {
   "cell_type": "code",
   "execution_count": 62,
   "id": "8c754765-64c1-49cf-90c1-f0a4a49522d9",
   "metadata": {},
   "outputs": [],
   "source": [
    "model_dirs = ['/home/ar88770/MarginLoss/outputs/brain/unet-ce-adam/20220327-22:46:38-903888',\n",
    "              '/home/ar88770/MarginLoss/outputs/brain/unet-ce_dice-adam/20220427-15:57:36-359885',\n",
    "              '/home/ar88770/MarginLoss/outputs/brain/unet-focal-adam/20220405-15:44:14-601824',\n",
    "              '/home/ar88770/MarginLoss/outputs/brain/unet-penalty_ent-adam/20220405-23:10:20-562585',\n",
    "              '/home/ar88770/MarginLoss/outputs/brain/unet-ls-adam/20220328-02:43:30-442461',\n",
    "              '/home/ar88770/MarginLoss/outputs/brain/unet-svls-adam/20220417-14:12:05-491765',\n",
    "              '/home/ar88770/MarginLoss/outputs/brain/unet-logit_margin-adam/20220328-06:40:26-544931']\n",
    "gt_dir = '/home/ar88770/MarginLoss/brats/valid/'\n",
    "gt_files = glob.glob(gt_dir + '*.h5')"
   ]
  },
  {
   "cell_type": "code",
   "execution_count": null,
   "id": "cb6618dc-f840-41a1-8bad-c5326f720b69",
   "metadata": {},
   "outputs": [],
   "source": [
    "metric_dict_dsc = {'fname':[],'CE':[],'CD':[],'FL':[],'CP':[],'LS':[],'VS':[],'ML':[]}\n",
    "# metric_dict_hd = {'fname':[],'CE':[],'CD':[],'FL':[],'CP':[],'LS':[],'VS':[],'ML':[]}\n",
    "\n",
    "for gt_path in gt_files:\n",
    "    \n",
    "    fname = os.path.basename(gt_path)\n",
    "    metric_dict_dsc['fname'].append(fname)\n",
    "    metric_dict_hd['fname'].append(fname)\n",
    "    \n",
    "    with h5py.File(gt_path, 'r') as hf:\n",
    "        gt = hf['mask'][:]\n",
    "    \n",
    "    for ii, model_dir in enumerate(model_dirs):\n",
    "        \n",
    "        res_path = os.path.join(model_dir, 'results', fname)\n",
    "        \n",
    "        with h5py.File(res_path, 'r') as hf:\n",
    "            pred = hf['mask'][:][:,8:-8,8:-8]\n",
    "            \n",
    "        dsc = metric_dsc(pred, gt)\n",
    "        metric_dict_dsc[model_names[ii]].append(dsc)\n",
    "        # metric_dict_hd[model_names[ii]].append(hd)\n",
    "\n",
    "df_dsc = pd.DataFrame(metric_dict_dsc)\n",
    "# df_hd = pd.DataFrame(metric_dict_hd)"
   ]
  },
  {
   "cell_type": "code",
   "execution_count": 64,
   "id": "9da77eab-af5c-4239-a138-1f1e304d97d8",
   "metadata": {},
   "outputs": [
    {
     "name": "stderr",
     "output_type": "stream",
     "text": [
      "/tmp/ipykernel_26352/3044381647.py:1: FutureWarning: Dropping of nuisance columns in DataFrame reductions (with 'numeric_only=None') is deprecated; in a future version this will raise TypeError.  Select only valid columns before calling the reduction.\n",
      "  df_dsc.mean()\n"
     ]
    },
    {
     "data": {
      "text/plain": [
       "CE    0.748027\n",
       "CD    0.710202\n",
       "FL    0.708940\n",
       "CP    0.730351\n",
       "LS    0.728979\n",
       "VS    0.756600\n",
       "ML    0.729373\n",
       "dtype: float64"
      ]
     },
     "execution_count": 64,
     "metadata": {},
     "output_type": "execute_result"
    }
   ],
   "source": [
    "df_dsc.mean()"
   ]
  }
 ],
 "metadata": {
  "kernelspec": {
   "display_name": "Python 3",
   "language": "python",
   "name": "python3"
  },
  "language_info": {
   "codemirror_mode": {
    "name": "ipython",
    "version": 3
   },
   "file_extension": ".py",
   "mimetype": "text/x-python",
   "name": "python",
   "nbconvert_exporter": "python",
   "pygments_lexer": "ipython3",
   "version": "3.9.7"
  }
 },
 "nbformat": 4,
 "nbformat_minor": 5
}
