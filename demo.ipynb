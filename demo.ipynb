{
 "cells": [
  {
   "cell_type": "code",
   "execution_count": null,
   "id": "6d4d7164",
   "metadata": {},
   "outputs": [],
   "source": [
    "import h5py\n",
    "import torch\n",
    "import numpy as np\n",
    "from matplotlib import pyplot as plt\n",
    "from calibrate.net.unet import UNet\n",
    "from calibrate.evaluation.reliability_diagram import ReliabilityDiagram\n",
    "import torch.nn.functional as F\n",
    "from sklearn.calibration import calibration_curve\n",
    "import glob\n",
    "from tqdm import tqdm"
   ]
  },
  {
   "cell_type": "code",
   "execution_count": null,
   "id": "57bd1e52",
   "metadata": {},
   "outputs": [],
   "source": [
    "model = UNet(input_channels=1, num_classes=2)\n",
    "model_path = '/home/ar88770/MarginLoss/outputs/prostate/unet-ce-adam/20220323-17:16:52-337408/best.pth'\n",
    "checkpoint = torch.load(model_path)[\"state_dict\"]\n",
    "checkpoint = dict((key[7:] if \"module\" in key else key, value)for (key, value) in checkpoint.items())\n",
    "model.load_state_dict(checkpoint)\n",
    "model = model.to('cuda:3')"
   ]
  },
  {
   "cell_type": "code",
   "execution_count": null,
   "id": "5fc59f09",
   "metadata": {},
   "outputs": [],
   "source": [
    "data_root = '/home/ar88770/MarginLoss/promise/valid'\n",
    "files = glob.glob('{}/*.h5'.format(data_root))\n",
    "\n",
    "mask_stack = np.empty([])\n",
    "pred_stack = np.empty([])\n",
    "\n",
    "for fpath in tqdm(files):\n",
    "    \n",
    "    with h5py.File(fpath, 'r') as hf:\n",
    "        img = hf['img'][:]\n",
    "        mask = hf['mask'][:]\n",
    "        \n",
    "    imgT = torch.from_numpy(img)\n",
    "    imgT = imgT.unsqueeze(0).unsqueeze(0)\n",
    "    imgT = imgT.cuda('cuda:3')\n",
    "    \n",
    "    predT = F.softmax(model(imgT.float()),dim=1)[0]\n",
    "    \n",
    "    ind = mask == 1\n",
    "    prednp = predT.detach().cpu().numpy()\n",
    "    pred_fg = prednp[:,ind]\n",
    "    pred_fg = pred_fg.T[:,1]\n",
    "    mask_fg = mask[ind]\n",
    "    \n",
    "    pred_stack = np.hstack([pred_stack, pred_fg])\n",
    "    mask_stack = np.hstack([mask_stack, mask_fg])\n",
    "    \n",
    "#     break"
   ]
  },
  {
   "cell_type": "code",
   "execution_count": null,
   "id": "d5fa93bf",
   "metadata": {},
   "outputs": [],
   "source": [
    "print (pred_stack.shape, mask_stack.shape)"
   ]
  },
  {
   "cell_type": "code",
   "execution_count": null,
   "id": "52a4a3f6",
   "metadata": {},
   "outputs": [],
   "source": [
    "diagram = ReliabilityDiagram(bins=25, style='curve')"
   ]
  },
  {
   "cell_type": "code",
   "execution_count": null,
   "id": "e0f95c8c",
   "metadata": {},
   "outputs": [],
   "source": [
    "diagram.plot(pred_fg,mask_fg)"
   ]
  }
 ],
 "metadata": {
  "kernelspec": {
   "display_name": "Python 3",
   "language": "python",
   "name": "python3"
  },
  "language_info": {
   "codemirror_mode": {
    "name": "ipython",
    "version": 3
   },
   "file_extension": ".py",
   "mimetype": "text/x-python",
   "name": "python",
   "nbconvert_exporter": "python",
   "pygments_lexer": "ipython3",
   "version": "3.6.9"
  }
 },
 "nbformat": 4,
 "nbformat_minor": 5
}
